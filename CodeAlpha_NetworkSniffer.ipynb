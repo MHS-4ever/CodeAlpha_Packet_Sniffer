{
  "nbformat": 4,
  "nbformat_minor": 0,
  "metadata": {
    "colab": {
      "provenance": []
    },
    "kernelspec": {
      "name": "python3",
      "display_name": "Python 3"
    },
    "language_info": {
      "name": "python"
    }
  },
  "cells": [
    {
      "cell_type": "markdown",
      "source": [
        "#**Network Packet Analyzer**"
      ],
      "metadata": {
        "id": "B2s8J5skkoMa"
      }
    },
    {
      "cell_type": "markdown",
      "source": [
        "##Importing Required Libraries"
      ],
      "metadata": {
        "id": "6-0bfH4xk1Br"
      }
    },
    {
      "cell_type": "code",
      "source": [
        "from scapy.all import sniff\n"
      ],
      "metadata": {
        "id": "yDGEL4SLkoVK"
      },
      "execution_count": null,
      "outputs": []
    },
    {
      "cell_type": "markdown",
      "source": [
        "This cell imports the **sniff** function from the **scapy.all** module. Scapy is a powerful Python library used for network packet manipulation, sniffing, and more. The **sniff** function allows us to capture packets from the network interface."
      ],
      "metadata": {
        "id": "GumbhCO1kofv"
      }
    },
    {
      "cell_type": "markdown",
      "source": [
        "##Defining the Packet Processing Function"
      ],
      "metadata": {
        "id": "Diq557g0kowx"
      }
    },
    {
      "cell_type": "code",
      "source": [
        "# Callback function to process captured packets\n",
        "def process_packet(packet):\n",
        "    # Check if packet has an IP layer\n",
        "    if packet.haslayer('IP'):\n",
        "        ip_layer = packet.getlayer('IP')\n",
        "        print(f\"Source IP: {ip_layer.src}\")\n",
        "        print(f\"Destination IP: {ip_layer.dst}\")\n",
        "        print(f\"Protocol: {ip_layer.proto}\")\n",
        "\n",
        "        # Display TCP/UDP payload data if available\n",
        "        if packet.haslayer('Raw'):\n",
        "            payload_data = packet.getlayer('Raw').load\n",
        "            print(f\"Payload: {payload_data}\")\n",
        "\n",
        "        print('-' * 50)\n"
      ],
      "metadata": {
        "id": "5mlqgR8Iko4r"
      },
      "execution_count": null,
      "outputs": []
    },
    {
      "cell_type": "markdown",
      "source": [
        "This cell defines the **process_packet** function, which will process each packet captured by Scapy. The function checks if the packet has an IP layer, extracts the source and destination IP addresses, and the protocol used. If the packet has payload data (TCP/UDP), it also displays the payload. Each packet's details are separated by a line of dashes.\n",
        "\n"
      ],
      "metadata": {
        "id": "IH4SHsdfkpAG"
      }
    },
    {
      "cell_type": "markdown",
      "source": [
        "##Sniffing Network Packets"
      ],
      "metadata": {
        "id": "la1vaNj7kpLM"
      }
    },
    {
      "cell_type": "code",
      "source": [
        "# Sniff packets on all interfaces\n",
        "sniff(prn=process_packet, count=10)\n"
      ],
      "metadata": {
        "id": "uE-v1Ls5kpRO"
      },
      "execution_count": null,
      "outputs": []
    },
    {
      "cell_type": "markdown",
      "source": [
        "This cell starts capturing network packets using the **sniff** function. The **prn** parameter specifies the callback function (**process_packet**) to be called for each captured packet. The **count** parameter limits the capture to 10 packets.\n",
        "\n"
      ],
      "metadata": {
        "id": "-mIIodmkkpaj"
      }
    },
    {
      "cell_type": "markdown",
      "source": [
        "##Conclusion"
      ],
      "metadata": {
        "id": "nQmOZKDEkpjF"
      }
    },
    {
      "cell_type": "code",
      "source": [
        "##This notebook demonstrated the use of Scapy to capture network packets, extract IP information, and display payload data.\n",
        "##It provides a simple yet effective foundation for understanding packet sniffing and analysis.\n"
      ],
      "metadata": {
        "id": "wmEtTOwlkpqd"
      },
      "execution_count": null,
      "outputs": []
    },
    {
      "cell_type": "markdown",
      "source": [
        "This markdown cell offers a concise summary of the notebook, highlighting the key achievements of packet capture and basic analysis with Scapy."
      ],
      "metadata": {
        "id": "fxQSAFsQkpxs"
      }
    }
  ]
}